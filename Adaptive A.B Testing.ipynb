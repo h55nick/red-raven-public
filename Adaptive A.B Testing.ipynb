{
 "cells": [
  {
   "cell_type": "markdown",
   "metadata": {},
   "source": [
    "# Adaptive A.B Testing\n",
    "\n",
    "> Once you have more information, shouldn't you adapt?\n",
    "\n",
    "Recently at Ellevest, we launched one of our largest, and I'd venture our most 1-sided A/B test. In full support of confirming assumptions with data, it was easy to agree to A/B test but shortly after launch (in the magnitude of hours) I suggested that we start adjusting our 50/50 split in favor of the new B. Note this was shifting, not full on decision making. It was far from statistically significant but we were starting to see B outperform. I was surprised when this was met with resistance even as I tried to explain what Adaptive A/B Testing can achieve. I temproary surrendered and wrapped up my day. I knew I had read about it in the context of clinical trials and thus brought it up with my wife who happens to have a penchant for remembering things, especially as they relate to medicine and statistics. She started bringing me study after study that described 'christmas tree testing' and 'adaptive clinical trials'. I didn't read them admittedly, the jargon was too much, but I felt I wanted the models to go a little more head to head and here we are.\n",
    "\n",
    "In this little experiment we are looking at testing which model will get us a higher return* for our average participant. From a business perspective there are a couple goals we are stiving for. \n",
    "\n",
    "First, we want to be confident in our decision in picking a final variant. This is already done with ind. t-tests and thus we will continue to use that. \n",
    "\n",
    "Second, we don't want to be 'wasting' resources and time sending to A if B has a higher return. Thus we will not use binary success/failure but look to see if the mean returns of using even split, vs adaptive trials. This was the crux of why I requested we start shifting our weightings.\n",
    "\n",
    "Third, we need to ensure the trial lengths are not statistically different. The logic here is that if the trial goes longer, even with a higher average return, the indecision is costing us by continuing to put cases in the less effective variant. This is the weakest of our three requirements and could be revisited.\n",
    "\n",
    "So without further ado, lets get to some testing.\n",
    "\n",
    "*1 'higher return' can mean many things, higher revenue, higher mortaility, etc. "
   ]
  },
  {
   "cell_type": "code",
   "execution_count": 1,
   "metadata": {},
   "outputs": [],
   "source": [
    "# Yup. Always need some imports.\n",
    "import pandas as pd\n",
    "import numpy as np\n",
    "import scipy as sp\n",
    "import math\n",
    "ARB_CUTOFF = 6000 # to ensure we don't loop forever, allow 6k trials max"
   ]
  },
  {
   "cell_type": "code",
   "execution_count": 2,
   "metadata": {},
   "outputs": [],
   "source": [
    "\"\"\"\n",
    "\n",
    "Let's define our A and B variant outcomes. \n",
    "The assumptions we are making about the underlying population and how they react to the variants could have \n",
    "an impact on our test. Something to keep in mind before generalizing this too much.\n",
    "\n",
    "\"\"\"\n",
    "\n",
    "variant_a_mean_payout = 5\n",
    "variant_b_mean_payout = 6\n",
    "\n",
    "variant_a_stdev = 1\n",
    "variant_b_stdev = 1\n",
    "\n",
    "\"\"\"\n",
    "\n",
    "We will use these methods as our 'random draw'. \n",
    "This is equivlant to someone landing on variant A or variant B and realizing the outcome.\n",
    "\n",
    "\"\"\"\n",
    "## Setup Variant Responses\n",
    "def get_variant_A():\n",
    "    return np.random.normal(loc=variant_a_mean_payout, scale=variant_a_stdev)\n",
    "\n",
    "def get_variant_B():\n",
    "    return np.random.normal(loc=variant_b_mean_payout, scale=variant_b_stdev)"
   ]
  },
  {
   "cell_type": "code",
   "execution_count": 3,
   "metadata": {},
   "outputs": [],
   "source": [
    "\"\"\"\n",
    "A/B test with 50/50 split. \n",
    "\n",
    "This is what most people are familiar with. \n",
    "\"\"\"\n",
    "def even_split_weight_pick(_a, _b, weighting):\n",
    "    return np.random.rand() < weighting"
   ]
  },
  {
   "cell_type": "code",
   "execution_count": 4,
   "metadata": {},
   "outputs": [],
   "source": [
    "\"\"\"\n",
    "\n",
    "A/B test with Adaptive split.\n",
    "\n",
    "This is the adaptive split. \n",
    "1. Start with random 50/50 until we have a valid pvalue. \n",
    "2. If we have a pvalue start 'leaning' towards the variant that has the larger average return \n",
    "   with the weight being decided by the pvalue/confidence.\n",
    "3. Repeat.\n",
    "\n",
    "\"\"\"\n",
    "def adaptive_weight_pick(a, b, weighting):\n",
    "    pvalue = sp.stats.ttest_ind(a, b).pvalue\n",
    "    rand = np.random.rand()\n",
    "\n",
    "    # if not enough information, be random 50/50 A/B\n",
    "    if math.isnan(pvalue):\n",
    "        return rand > weighting\n",
    "    \n",
    "    # reshape pvalue \n",
    "    # p-value e [0, 1]\n",
    "    # prob e [1, 0.5]\n",
    "    conf = ((pvalue / 2 ) + 1) - pvalue\n",
    "    \n",
    "    # lean towards 'a' w/confidence\n",
    "    if np.mean(a) > np.mean(b):\n",
    "        return rand < conf\n",
    "    else:\n",
    "        return rand > conf"
   ]
  },
  {
   "cell_type": "code",
   "execution_count": 5,
   "metadata": {},
   "outputs": [],
   "source": [
    "\"\"\"\n",
    "\n",
    "Our basic trial runs. Here we are realizing invidual outcomes sequentially and seeing if we have\n",
    "statistical significance. If not, we keep the trial running. This achieves our 1st requirement\n",
    "for the trials in that we are confident in picking our variant. \n",
    "\n",
    "\"\"\"\n",
    "def run_trial(decision_function, weighting=0.5, stat_sig=0.05):\n",
    "    p_value = 1\n",
    "\n",
    "    var_A = []\n",
    "    var_B = []\n",
    "    trial_counts = 0\n",
    "\n",
    "    while (p_value > stat_sig) and (trial_counts < ARB_CUTOFF):\n",
    "        # implementation of decision_function\n",
    "        if decision_function(var_A, var_B, weighting):\n",
    "            var_A.append(get_variant_A())\n",
    "        else:\n",
    "            var_B.append(get_variant_B())\n",
    "        \n",
    "        p_value = sp.stats.ttest_ind(var_A, var_B).pvalue\n",
    "        trial_counts = len(var_A) + len(var_B)\n",
    "        if math.isnan(p_value):\n",
    "            p_value = 1 # if not enough data, we have no significance\n",
    "\n",
    "    # this is just me being bad at python... Taking the weighted average.\n",
    "    average_A = np.mean(var_A) * len(var_A)\n",
    "    average_B = np.mean(var_B) * len(var_B)\n",
    "    average = (average_A + average_B) / trial_counts\n",
    "    \n",
    "    return [average, trial_counts]"
   ]
  },
  {
   "cell_type": "code",
   "execution_count": 6,
   "metadata": {},
   "outputs": [
    {
     "name": "stderr",
     "output_type": "stream",
     "text": [
      "/usr/local/lib/python2.7/dist-packages/numpy/core/_methods.py:82: RuntimeWarning: Degrees of freedom <= 0 for slice\n",
      "  warnings.warn(\"Degrees of freedom <= 0 for slice\", RuntimeWarning)\n"
     ]
    }
   ],
   "source": [
    "\"\"\"\n",
    "Run N number\n",
    "\"\"\"\n",
    "N = 1000\n",
    "adaptive = [run_trial(adaptive_weight_pick) for _x in xrange(N)]\n",
    "even = [run_trial(even_split_weight_pick) for _x in xrange(N)]"
   ]
  },
  {
   "cell_type": "code",
   "execution_count": 7,
   "metadata": {},
   "outputs": [],
   "source": [
    "# pull out means to compare\n",
    "adaptive_x = [item[0] for item in adaptive]\n",
    "adaptive_trial = [item[1] for item in adaptive]\n",
    "# pull out trial counts to compare\n",
    "even_x = [item[0] for item in even]\n",
    "even_trial = [item[1] for item in even]"
   ]
  },
  {
   "cell_type": "code",
   "execution_count": 8,
   "metadata": {},
   "outputs": [
    {
     "name": "stdout",
     "output_type": "stream",
     "text": [
      "\n",
      "\n",
      "----------\n",
      "Requirement 2: Exploring trial mean return.\n",
      "Is adaptive statistically significant? True (pvalue: 1.23854239457e-29)\n",
      "Is adaptive returning higher?          True (A: 5.68671806174 to E: 5.51765853572)\n",
      "----------\n",
      "\n",
      "\n",
      "----------\n",
      "Requirement 3: Exploring trial length.\n",
      "Is adaptive statistically significant? True (pvalue: 6.36438586345e-18)\n",
      "Is adaptive longer?                    True (A: 28.537 to E: 18.456)\n",
      "----------\n",
      "\n",
      "\n",
      "\n"
     ]
    }
   ],
   "source": [
    "# Conclusion\n",
    "x_pvalue = sp.stats.ttest_ind(adaptive_x, even_x).pvalue\n",
    "trial_pvalue = sp.stats.ttest_ind(adaptive_trial, even_trial).pvalue\n",
    "\n",
    "print(\"\\n\")\n",
    "print('----------')\n",
    "print(\"Requirement 2: Exploring trial mean return.\")\n",
    "adaptive_sigificant = x_pvalue < 0.05\n",
    "print(\"Is adaptive statistically significant? {r} (pvalue: {p})\".format(r=(adaptive_sigificant), p=x_pvalue))\n",
    "adaptive_greater = np.mean(adaptive_x) > np.mean(even_x)\n",
    "print(\"Is adaptive returning higher?          {r} (A: {a} to E: {b})\".format(r=(adaptive_greater), a=np.mean(adaptive_x), b=np.mean(even_x)))\n",
    "print('----------')\n",
    "print(\"\\n\")\n",
    "print('----------')\n",
    "print(\"Requirement 3: Exploring trial length.\")\n",
    "adaptive_sigificant = trial_pvalue < 0.05\n",
    "print(\"Is adaptive statistically significant? {r} (pvalue: {p})\".format(r=(adaptive_sigificant), p=trial_pvalue))\n",
    "adaptive_greater = np.mean(adaptive_trial) > np.mean(even_trial)\n",
    "print(\"Is adaptive longer?                    {r} (A: {a} to E: {b})\".format(r=(adaptive_greater), a=np.mean(adaptive_trial), b=np.mean(even_trial)))\n",
    "print('----------')\n",
    "print(\"\\n\\n\")"
   ]
  },
  {
   "cell_type": "code",
   "execution_count": 9,
   "metadata": {},
   "outputs": [
    {
     "data": {
      "image/png": "[encoded data removed]",
      "text/plain": [
       "<matplotlib.figure.Figure at 0x7f1bf0b16390>"
      ]
     },
     "metadata": {},
     "output_type": "display_data"
    }
   ],
   "source": [
    "# Take a look at mean return\n",
    "pd.DataFrame({\n",
    "    'adaptive': adaptive_x,\n",
    "    'even': even_x\n",
    "}).hist(bins=50, sharex=True, figsize=(20,8));"
   ]
  },
  {
   "cell_type": "code",
   "execution_count": 10,
   "metadata": {},
   "outputs": [
    {
     "data": {
      "image/png": "[encoded data removed]",
      "text/plain": [
       "<matplotlib.figure.Figure at 0x7f1bce70f0d0>"
      ]
     },
     "metadata": {},
     "output_type": "display_data"
    }
   ],
   "source": [
    "# Take a look at trial length\n",
    "pd.DataFrame({\n",
    "    'adaptive': adaptive_trial,\n",
    "    'even': even_trial\n",
    "}).hist(bins=N/30, sharex=True, figsize=(20,8));"
   ]
  },
  {
   "cell_type": "markdown",
   "metadata": {},
   "source": [
    "### Conclusion\n",
    "\n",
    "Certainly not as cut and dry as I would have expected, but there is value in being adaptive! Feel free to copy and play with your own assumptions!\n",
    "\n",
    "Given that the trial is statistically longer, the actual comparisons in means requires the 50/50 split to run an extra 10 (difference_in_trial_length) trials but with a strict mean assuming the 'B' choice. This means the weighted sum is (as an example):\n",
    "```\n",
    "(5.48*18 + 6*10) / 28 = 5.6657 (50/50 with same number of samples)\n",
    "```\n",
    "This is still lower! But is it statisticall significant?"
   ]
  },
  {
   "cell_type": "code",
   "execution_count": 12,
   "metadata": {},
   "outputs": [],
   "source": [
    "'''\n",
    "Generic adjustment for difference in trial length\n",
    "'''\n",
    "difference_in_trial_length = int(np.mean(adaptive_trial) - np.mean(even_trial))\n",
    "even_x_with_extension = even_x + [get_variant_B() for _x in xrange(difference_in_trial_length)]"
   ]
  },
  {
   "cell_type": "code",
   "execution_count": 13,
   "metadata": {},
   "outputs": [
    {
     "name": "stdout",
     "output_type": "stream",
     "text": [
      "\n",
      "----------\n",
      "Conclusion: Exploring trial mean return.\n",
      "Is adaptive statistically significant? True (pvalue: 5.24475430653e-27)\n",
      "Is adaptive returning higher?          True (A: 5.68671806174 to E: 5.52396608122)\n",
      "\n",
      "\n"
     ]
    }
   ],
   "source": [
    "x_pvalue = sp.stats.ttest_ind(adaptive_x, even_x_with_extension).pvalue\n",
    "print('\\n----------')\n",
    "print(\"Conclusion: Exploring trial mean return.\")\n",
    "adaptive_sigificant = x_pvalue < 0.05\n",
    "print(\"Is adaptive statistically significant? {r} (pvalue: {p})\".format(r=(adaptive_sigificant), p=x_pvalue))\n",
    "adaptive_greater = np.mean(adaptive_x) > np.mean(even_x)\n",
    "print(\"Is adaptive returning higher?          {r} (A: {a} to E: {b})\".format(r=(adaptive_greater), a=np.mean(adaptive_x), b=np.mean(even_x_with_extension)))\n",
    "print(\"\\n\")"
   ]
  },
  {
   "cell_type": "markdown",
   "metadata": {},
   "source": [
    "> In conlusion: If your goal is to maximize returns, be adapative."
   ]
  }
 ],
 "metadata": {
  "kernelspec": {
   "display_name": "Python 2",
   "language": "python",
   "name": "python2"
  },
  "language_info": {
   "codemirror_mode": {
    "name": "ipython",
    "version": 2
   },
   "file_extension": ".py",
   "mimetype": "text/x-python",
   "name": "python",
   "nbconvert_exporter": "python",
   "pygments_lexer": "ipython2",
   "version": "2.7.12"
  }
 },
 "nbformat": 4,
 "nbformat_minor": 2
}