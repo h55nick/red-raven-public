{
 "cells": [
  {
   "cell_type": "markdown",
   "metadata": {},
   "source": [
    "### Top K Distance\n",
    "\n",
    "> You have a very large array of cordinates and want the top K closest. Write a fast method to do this."
   ]
  },
  {
   "cell_type": "code",
   "execution_count": 244,
   "metadata": {},
   "outputs": [],
   "source": [
    "import numpy as np\n",
    "import pandas as pd \n",
    "import heapq as hq\n",
    "\n",
    "##\n",
    "# Use this method to generate N points on an X, Y coordinate plane.\n",
    "def generate_array(n):\n",
    "    return (np.random.rand(n, 2) * 100).astype(int)"
   ]
  },
  {
   "cell_type": "code",
   "execution_count": 245,
   "metadata": {},
   "outputs": [],
   "source": [
    "## This is the an implementation where we keep a heap-stack array and only loop over arry once.\n",
    "# technically this should be fastest in \"Big-O\" fashion. \n",
    "# - we keep N for looping over the array \n",
    "# - then keep a max-heap of k-length\n",
    "\n",
    "def iterate_saver(arry, k):\n",
    "    k_arry = []\n",
    "    for x in arry:\n",
    "        dist = -1.0 * (x[0]**2 + x[1]**2) # -1 * for max-heap\n",
    "        if(len(k_arry) < k):\n",
    "            hq.heappush(k_arry, dist)\n",
    "        else:\n",
    "            if(dist > k_arry[0]):\n",
    "                hq.heapreplace(k_arry, dist)\n",
    "    return (-1 * np.array(k_arry)) ** (0.5) # -1 * to min-heap"
   ]
  },
  {
   "cell_type": "code",
   "execution_count": 246,
   "metadata": {},
   "outputs": [],
   "source": [
    "## This is using the tools... pandas\n",
    "# just do what 'comes to mind'\n",
    "# - with pandas do the math\n",
    "# - sort\n",
    "# - take 0-k\n",
    "\n",
    "def pandas_df(arry, k):\n",
    "    frame = pd.DataFrame(arry)\n",
    "    return np.sort(((frame[0] ** 2 + frame[1] ** 2)))[0:k] ** (0.5)"
   ]
  },
  {
   "cell_type": "code",
   "execution_count": 247,
   "metadata": {},
   "outputs": [
    {
     "name": "stdout",
     "output_type": "stream",
     "text": [
      "Iterate Saver\n",
      "[ 14.31782106   2.82842712  13.        ]\n",
      "Pandas\n",
      "[  2.82842712  13.          14.31782106]\n",
      "Note that iterate-saver is not ordered, which was not technically a requirement if we just wanted smallest k\n"
     ]
    }
   ],
   "source": [
    "## Test\n",
    "# - confirming they are both returning the same thing on a smaller sample\n",
    "\n",
    "arry = generate_array(100)\n",
    "k = 3\n",
    "\n",
    "print('Iterate Saver')\n",
    "print(iterate_saver(arry, k))\n",
    "print('Pandas')\n",
    "print(pandas_df(arry, k))\n",
    "print(\"Note that iterate-saver is not ordered, which was not technically a requirement if we just wanted smallest k\")"
   ]
  },
  {
   "cell_type": "code",
   "execution_count": 248,
   "metadata": {},
   "outputs": [],
   "source": [
    "## Setup of Timing\n",
    "\n",
    "# don't have %%timeit in this env.. so using poor-mans\n",
    "import time\n",
    " \n",
    "loops = 10 # 10x for sanity\n",
    "N = 10000000 # 10 Million points\n",
    "k = 5"
   ]
  },
  {
   "cell_type": "code",
   "execution_count": 249,
   "metadata": {},
   "outputs": [
    {
     "name": "stdout",
     "output_type": "stream",
     "text": [
      "82.3908131123\n"
     ]
    }
   ],
   "source": [
    "## Test of iterate_saver which is 'algorithmically' preferred\n",
    "\n",
    "start = time.time()\n",
    "\n",
    "for x in range(loops):\n",
    "    iterate_saver(generate_array(N), k)\n",
    "    \n",
    "end = time.time()  \n",
    "print(end - start)"
   ]
  },
  {
   "cell_type": "code",
   "execution_count": 250,
   "metadata": {},
   "outputs": [
    {
     "name": "stdout",
     "output_type": "stream",
     "text": [
      "10.6518340111\n"
     ]
    }
   ],
   "source": [
    "## Test of pandas_df which is 'read-ability/tool' preferred\n",
    "\n",
    "start = time.time()\n",
    "\n",
    "for x in range(loops):\n",
    "    pandas_df(generate_array(N), k)\n",
    "\n",
    "end = time.time() \n",
    "print(end - start)"
   ]
  },
  {
   "cell_type": "code",
   "execution_count": null,
   "metadata": {},
   "outputs": [],
   "source": []
  }
 ],
 "metadata": {
  "kernelspec": {
   "display_name": "Python 2",
   "language": "python",
   "name": "python2"
  },
  "language_info": {
   "codemirror_mode": {
    "name": "ipython",
    "version": 2
   },
   "file_extension": ".py",
   "mimetype": "text/x-python",
   "name": "python",
   "nbconvert_exporter": "python",
   "pygments_lexer": "ipython2",
   "version": "2.7.12"
  }
 },
 "nbformat": 4,
 "nbformat_minor": 2
}