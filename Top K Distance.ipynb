{
 "cells": [
  {
   "cell_type": "markdown",
   "metadata": {},
   "source": [
    "### Top K Distance\n",
    "\n",
    "// Setup - you have a very large array of cordinates and want the top K closest"
   ]
  },
  {
   "cell_type": "code",
   "execution_count": 10,
   "metadata": {},
   "outputs": [],
   "source": [
    "import numpy as np\n",
    "import pandas as pd \n",
    "\n",
    "def generate_array(n):\n",
    "    return np.random.rand(n, 2)"
   ]
  },
  {
   "cell_type": "code",
   "execution_count": 11,
   "metadata": {},
   "outputs": [],
   "source": [
    "## Iterate and save\n",
    "def iterate_saver(arry, k):\n",
    "    k_arry = np.array([])\n",
    "    small_value = 0\n",
    "    for x in arry:\n",
    "        dist = (x[0]**2 + x[1]**2)**(0.5)\n",
    "        # I know this isn't exactly the data structure\n",
    "        k_arry = np.sort(np.append(k_arry, [dist]))[0:k] \n",
    "    return k_arry"
   ]
  },
  {
   "cell_type": "code",
   "execution_count": 12,
   "metadata": {},
   "outputs": [],
   "source": [
    "def readable(arry, k):\n",
    "    frame = pd.DataFrame(arry)\n",
    "    return np.sort(((frame[0] ** 2 + frame[1] ** 2) ** (0.5)))[0:k]"
   ]
  },
  {
   "cell_type": "code",
   "execution_count": 13,
   "metadata": {},
   "outputs": [],
   "source": [
    "arry = generate_array(10)\n",
    "k = 2"
   ]
  },
  {
   "cell_type": "code",
   "execution_count": 14,
   "metadata": {},
   "outputs": [
    {
     "data": {
      "text/plain": [
       "array([ 0.40179075,  0.46603396])"
      ]
     },
     "execution_count": 14,
     "metadata": {},
     "output_type": "execute_result"
    }
   ],
   "source": [
    "iterate_saver(arry, k)"
   ]
  },
  {
   "cell_type": "code",
   "execution_count": 15,
   "metadata": {},
   "outputs": [
    {
     "data": {
      "text/plain": [
       "array([ 0.40179075,  0.46603396])"
      ]
     },
     "execution_count": 15,
     "metadata": {},
     "output_type": "execute_result"
    }
   ],
   "source": [
    "readable(arry, k)"
   ]
  },
  {
   "cell_type": "code",
   "execution_count": 16,
   "metadata": {},
   "outputs": [],
   "source": [
    "import time"
   ]
  },
  {
   "cell_type": "code",
   "execution_count": 17,
   "metadata": {},
   "outputs": [
    {
     "name": "stdout",
     "output_type": "stream",
     "text": [
      "18.0599470139\n"
     ]
    }
   ],
   "source": [
    "## don't have %%timeit in this env..\n",
    "\n",
    "arry = generate_array(1000)\n",
    "start = time.time()\n",
    "\n",
    "for x in range(1000):\n",
    "    iterate_saver(arry, k)\n",
    "end = time.time()  \n",
    "print(end - start)"
   ]
  },
  {
   "cell_type": "code",
   "execution_count": 18,
   "metadata": {},
   "outputs": [
    {
     "name": "stdout",
     "output_type": "stream",
     "text": [
      "0.580749034882\n"
     ]
    }
   ],
   "source": [
    "arry = generate_array(1000)\n",
    "start = time.time()\n",
    "\n",
    "for x in range(1000):\n",
    "    readable(arry, k)\n",
    "end = time.time()  \n",
    "print(end - start)"
   ]
  },
  {
   "cell_type": "code",
   "execution_count": null,
   "metadata": {},
   "outputs": [],
   "source": []
  },
  {
   "cell_type": "code",
   "execution_count": null,
   "metadata": {},
   "outputs": [],
   "source": []
  }
 ],
 "metadata": {
  "kernelspec": {
   "display_name": "Python 2",
   "language": "python",
   "name": "python2"
  },
  "language_info": {
   "codemirror_mode": {
    "name": "ipython",
    "version": 2
   },
   "file_extension": ".py",
   "mimetype": "text/x-python",
   "name": "python",
   "nbconvert_exporter": "python",
   "pygments_lexer": "ipython2",
   "version": "2.7.12"
  }
 },
 "nbformat": 4,
 "nbformat_minor": 2
}