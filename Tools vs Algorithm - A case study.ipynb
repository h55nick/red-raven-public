{
 "cells": [
  {
   "cell_type": "markdown",
   "metadata": {},
   "source": [
    "# Tool vs Algorithm - A case study\n",
    "\n",
    "> I stand tall on the shoulders of giants. I read biographies of people I respect, and I trust tools built by people much more into the problem-set to handle any dirty-work. This started when I programmed a TI-89 to do the quadratic equation over learning the rote a squared + b squared notation (ironically, writing the program foced me to understand the equation). Recently I came across an algorithm question posed as such:\n",
    "\n",
    "#### Request\n",
    "> You have a very large array of cordinates and want the top K closest. Write a fast method to do this.\n",
    "\n",
    "#### Response\n",
    "> My go-to was to import pandas and use it's built in `.sort()`. Done. Right? What's the BigO of this implementation? Probably close to nlog(n), but I couldn't be sure and didn't have access to the docs (it's [quicksort](https://pandas.pydata.org/pandas-docs/stable/reference/api/pandas.DataFrame.sort_values.html), timsort is python default). Some direction later I attempted to write a heap-sorted sub array implementation (denoted as `iterate_saver` below). Conclusion at the bottom."
   ]
  },
  {
   "cell_type": "code",
   "execution_count": 1,
   "metadata": {},
   "outputs": [],
   "source": [
    "import numpy as np\n",
    "import pandas as pd \n",
    "import heapq as hq\n",
    "import matplotlib.pyplot as plt"
   ]
  },
  {
   "cell_type": "code",
   "execution_count": 2,
   "metadata": {},
   "outputs": [],
   "source": [
    "##\n",
    "# Use this method to generate N points on an X, Y coordinate plane.\n",
    "def generate_array(n):\n",
    "    return (np.random.rand(n, 2) * 100).astype(int)"
   ]
  },
  {
   "cell_type": "code",
   "execution_count": 3,
   "metadata": {},
   "outputs": [
    {
     "data": {
      "image/png": "[encoded data removed]",
      "text/plain": [
       "<matplotlib.figure.Figure at 0x7feb0c848f90>"
      ]
     },
     "metadata": {},
     "output_type": "display_data"
    }
   ],
   "source": [
    "##\n",
    "# Show example of a generated array\n",
    "plt.scatter(*zip(*generate_array(70)))\n",
    "plt.show()"
   ]
  },
  {
   "cell_type": "code",
   "execution_count": 4,
   "metadata": {},
   "outputs": [],
   "source": [
    "## This is the an implementation where we keep a heap-stack array and only loop over `arry` once.\n",
    "# - we keep N for looping over the array \n",
    "# - then keep a max-heap of k-length\n",
    "\n",
    "def iterate_saver(arry, k):\n",
    "    k_arry = []\n",
    "    for x in arry:\n",
    "        dist = -1.0 * (x[0]**2 + x[1]**2) # -1 * for max-heap\n",
    "        if(len(k_arry) < k):\n",
    "            hq.heappush(k_arry, dist)\n",
    "        else:\n",
    "            if(dist > k_arry[0]):\n",
    "                hq.heapreplace(k_arry, dist)\n",
    "    return (-1 * np.array(k_arry)) ** (0.5) # -1 * to min-heap"
   ]
  },
  {
   "cell_type": "code",
   "execution_count": 5,
   "metadata": {},
   "outputs": [],
   "source": [
    "## This is using the tools... pandas\n",
    "# just do what 'comes to mind'\n",
    "# - with pandas do the math\n",
    "# - sort\n",
    "# - take 0-k\n",
    "\n",
    "def pandas_df(arry, k, sort_kind='quicksort'):\n",
    "    frame = pd.DataFrame(arry)\n",
    "    return np.sort(((frame[0] ** 2 + frame[1] ** 2)), kind=sort_kind)[0:k] ** (0.5)"
   ]
  },
  {
   "cell_type": "code",
   "execution_count": 6,
   "metadata": {},
   "outputs": [
    {
     "name": "stdout",
     "output_type": "stream",
     "text": [
      "Iterate Saver\n",
      "[ 11.18033989   6.           8.06225775]\n",
      "Pandas\n",
      "[  6.           8.06225775  11.18033989]\n",
      "Note that iterate-saver is not ordered, which was not technically a requirement if we just wanted smallest k\n"
     ]
    }
   ],
   "source": [
    "## Test\n",
    "# - confirming they are both returning the same thing on a smaller sample\n",
    "\n",
    "arry = generate_array(100)\n",
    "k = 3\n",
    "\n",
    "print('Iterate Saver')\n",
    "print(iterate_saver(arry, k))\n",
    "print('Pandas')\n",
    "print(pandas_df(arry, k))\n",
    "print(\"Note that iterate-saver is not ordered, which was not technically a requirement if we just wanted smallest k\")"
   ]
  },
  {
   "cell_type": "code",
   "execution_count": 7,
   "metadata": {},
   "outputs": [],
   "source": [
    "## Setup of Timing\n",
    "\n",
    "# don't have %%timeit in this env.. so using poor-mans\n",
    "import time\n",
    " \n",
    "loops = 10 # 10x for sanity\n",
    "N = 10000000 # 10 Million points\n",
    "k = 5\n",
    "data_saver = {}"
   ]
  },
  {
   "cell_type": "code",
   "execution_count": 9,
   "metadata": {},
   "outputs": [
    {
     "name": "stdout",
     "output_type": "stream",
     "text": [
      "78.967302084\n"
     ]
    }
   ],
   "source": [
    "##\n",
    "# Test of iterate_saver which is 'algorithmically' preferred\n",
    "start = time.time()\n",
    "\n",
    "for x in range(loops):\n",
    "    iterate_saver(generate_array(N), k)\n",
    "\n",
    "data_saver['iterate_saver'] = time.time() - start\n",
    "print(data_saver['iterate_saver'])"
   ]
  },
  {
   "cell_type": "code",
   "execution_count": 10,
   "metadata": {},
   "outputs": [
    {
     "name": "stdout",
     "output_type": "stream",
     "text": [
      "10.7560799122\n"
     ]
    }
   ],
   "source": [
    "##\n",
    "# Test of pandas_df which is 'read-ability/tool' preferred\n",
    "start = time.time()\n",
    "\n",
    "for x in range(loops):\n",
    "    pandas_df(generate_array(N), k, sort_kind='quicksort')\n",
    "\n",
    "data_saver['pd_quicksort'] = time.time() - start\n",
    "print(data_saver['pd_quicksort'])"
   ]
  },
  {
   "cell_type": "code",
   "execution_count": 11,
   "metadata": {},
   "outputs": [
    {
     "name": "stdout",
     "output_type": "stream",
     "text": [
      "23.4478480816\n"
     ]
    }
   ],
   "source": [
    "##\n",
    "# Test of pandas_df which is 'read-ability/tool' preferred, with default sort modified to be heapsort\n",
    "start = time.time()\n",
    "\n",
    "for x in range(loops):\n",
    "    pandas_df(generate_array(N), k, sort_kind='heapsort')\n",
    "\n",
    "data_saver['pd_heapsort'] = time.time() - start\n",
    "print(data_saver['pd_heapsort'])"
   ]
  },
  {
   "cell_type": "code",
   "execution_count": 12,
   "metadata": {},
   "outputs": [
    {
     "name": "stdout",
     "output_type": "stream",
     "text": [
      "Outcomes\n",
      "                       0\n",
      "pd_quicksort   10.756080\n",
      "pd_heapsort    23.447848\n",
      "iterate_saver  78.967302\n"
     ]
    }
   ],
   "source": [
    "print(\"Outcomes\")\n",
    "print(pd.DataFrame.from_dict(data_saver, orient=\"index\"))"
   ]
  },
  {
   "cell_type": "markdown",
   "metadata": {},
   "source": [
    "### Conclusion\n",
    "\n",
    "> Pretty cut and dry. Not only is pandas 8x faster (!), it is significantly cleaner, it easier to read and took me significantly less time to write than the heap-sort native implementation. I will note it is important to have some understanding of the choices being made here. IE, while quicksort is a great default for the pandas implementation there are orderings of `generate_array` that would be faster with mergesort. At the same time, that requires an understanding of the state of the given array which would require inspection or assumption. \n",
    "\n",
    "> Thanks for reading! "
   ]
  }
 ],
 "metadata": {
  "kernelspec": {
   "display_name": "Python 2",
   "language": "python",
   "name": "python2"
  },
  "language_info": {
   "codemirror_mode": {
    "name": "ipython",
    "version": 2
   },
   "file_extension": ".py",
   "mimetype": "text/x-python",
   "name": "python",
   "nbconvert_exporter": "python",
   "pygments_lexer": "ipython2",
   "version": "2.7.12"
  }
 },
 "nbformat": 4,
 "nbformat_minor": 2
}