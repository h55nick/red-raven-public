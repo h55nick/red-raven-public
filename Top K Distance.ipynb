{
 "cells": [
  {
   "cell_type": "markdown",
   "metadata": {},
   "source": [
    "### Top K Distance\n",
    "\n",
    "// Setup - you have a very large array of cordinates and want the top K closest"
   ]
  },
  {
   "cell_type": "code",
   "execution_count": 13,
   "metadata": {},
   "outputs": [],
   "source": [
    "import numpy as np\n",
    "import pandas as pd \n",
    "\n",
    "def generate_array(n):\n",
    "    return np.random.rand(n, 2)"
   ]
  },
  {
   "cell_type": "code",
   "execution_count": 14,
   "metadata": {},
   "outputs": [],
   "source": [
    "## Iterate and save\n",
    "def iterate_saver(arry, k):\n",
    "    k_arry = np.array([])\n",
    "    for x in arry:\n",
    "        dist = (x[0]**2 + x[1]**2)\n",
    "        # I know this isn't exactly the data structure\n",
    "        k_arry = np.sort(np.append(k_arry, [dist]))[0:k] \n",
    "    return k_arry ** (0.5)"
   ]
  },
  {
   "cell_type": "code",
   "execution_count": 15,
   "metadata": {},
   "outputs": [],
   "source": [
    "def readable(arry, k):\n",
    "    frame = pd.DataFrame(arry)\n",
    "    return np.sort(((frame[0] ** 2 + frame[1] ** 2)))[0:k] ** (0.5)"
   ]
  },
  {
   "cell_type": "code",
   "execution_count": 16,
   "metadata": {},
   "outputs": [],
   "source": [
    "arry = generate_array(10)\n",
    "k = 2"
   ]
  },
  {
   "cell_type": "code",
   "execution_count": 17,
   "metadata": {},
   "outputs": [
    {
     "data": {
      "text/plain": [
       "array([ 0.20251617,  0.37553449])"
      ]
     },
     "execution_count": 17,
     "metadata": {},
     "output_type": "execute_result"
    }
   ],
   "source": [
    "iterate_saver(arry, k)"
   ]
  },
  {
   "cell_type": "code",
   "execution_count": 18,
   "metadata": {},
   "outputs": [
    {
     "data": {
      "text/plain": [
       "array([ 0.20251617,  0.37553449])"
      ]
     },
     "execution_count": 18,
     "metadata": {},
     "output_type": "execute_result"
    }
   ],
   "source": [
    "readable(arry, k)"
   ]
  },
  {
   "cell_type": "code",
   "execution_count": 19,
   "metadata": {},
   "outputs": [],
   "source": [
    "import time"
   ]
  },
  {
   "cell_type": "code",
   "execution_count": 20,
   "metadata": {},
   "outputs": [
    {
     "name": "stdout",
     "output_type": "stream",
     "text": [
      "15.9582428932\n"
     ]
    }
   ],
   "source": [
    "## don't have %%timeit in this env..\n",
    "\n",
    "arry = generate_array(10000)\n",
    "start = time.time()\n",
    "\n",
    "for x in range(100):\n",
    "    iterate_saver(arry, k)\n",
    "end = time.time()  \n",
    "print(end - start)"
   ]
  },
  {
   "cell_type": "code",
   "execution_count": 21,
   "metadata": {},
   "outputs": [
    {
     "name": "stdout",
     "output_type": "stream",
     "text": [
      "0.120980978012\n"
     ]
    }
   ],
   "source": [
    "arry = generate_array(10000)\n",
    "start = time.time()\n",
    "\n",
    "for x in range(100):\n",
    "    readable(arry, k)\n",
    "end = time.time()  \n",
    "print(end - start)"
   ]
  },
  {
   "cell_type": "code",
   "execution_count": null,
   "metadata": {},
   "outputs": [],
   "source": []
  }
 ],
 "metadata": {
  "kernelspec": {
   "display_name": "Python 2",
   "language": "python",
   "name": "python2"
  }
 },
 "nbformat": 4,
 "nbformat_minor": 2
}